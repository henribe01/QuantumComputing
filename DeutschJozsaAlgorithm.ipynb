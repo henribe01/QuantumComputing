{
 "cells": [
  {
   "cell_type": "markdown",
   "metadata": {},
   "source": [
    "# Deutsch-Jozsa Algorithm\n",
    "The Deutsch-Jozsa algorithm is a quantum algorithm that solves the Deutsch problem. Given a function $f: \\{0, 1\\}^n \\rightarrow \\{0, 1\\}$, the Deutsch problem is to determine whether $f$ is constant for all inputs or balanced i.e. returns 0 for half of the inputs and 1 for the other half. The classical solution to this problem needs in the worst case $2^{n-1} + 1$ queries to the function $f$. The Deutsch-Jozsa algorithm solves this problem with only one query to the function $f$."
   ]
  },
  {
   "cell_type": "markdown",
   "metadata": {},
   "source": [
    "## Simplification - Deutsch Algorithm\n",
    "The Deutsch algorithm is a simplified version of the Deutsch-Jozsa algorithm and is a good starting point to understand the Deutsch-Jozsa algorithm. The Deutsch algorithm solves the Deutsch problem for the case where $n=1$. Since the implementation of the function $f$ needs to be reversible, $f$ is implemented as a unitary operator $U_f$, that acts on two qubits, the **data qubit** and the **target qubit**. The function $f$ is implemented as follows:\n",
    "$$\n",
    "U_f : \\ket{x}\\ket{y} \\rightarrow \\ket{x}\\ket{y \\oplus f(x)}\n",
    "$$\n",
    "where $\\oplus$ denotes addition modulo 2."
   ]
  },
  {
   "cell_type": "code",
   "execution_count": 17,
   "metadata": {},
   "outputs": [],
   "source": [
    "from qiskit import QuantumCircuit, QuantumRegister\n",
    "from qiskit.quantum_info import Statevector\n",
    "from IPython.display import display\n",
    "from qiskit_aer import AerSimulator\n",
    "from qiskit.visualization import plot_state_qsphere, plot_histogram"
   ]
  },
  {
   "cell_type": "code",
   "execution_count": 18,
   "metadata": {},
   "outputs": [
    {
     "data": {
      "image/png": "[encoded data removed]",
      "text/plain": [
       "<Figure size 203.683x200.667 with 1 Axes>"
      ]
     },
     "metadata": {},
     "output_type": "display_data"
    }
   ],
   "source": [
    "constant = True\n",
    "constant_value = 0\n",
    "\n",
    "oracle_qc = QuantumCircuit(2)\n",
    "if constant:\n",
    "    if constant_value:\n",
    "        oracle_qc.x(1)\n",
    "    else:\n",
    "        oracle_qc.id(1)\n",
    "else:\n",
    "    oracle_qc.cx(0, 1)\n",
    "display(oracle_qc.draw('mpl'))\n",
    "\n",
    "oracle = oracle_qc.to_gate(label='Oracle')"
   ]
  },
  {
   "cell_type": "markdown",
   "metadata": {},
   "source": [
    "### Implementation\n",
    "The first step of the Deutsch algorithm is to prepare the two qubits in the state $\\ket{0}\\ket{1}$:\n",
    "$$\n",
    "\\ket{\\psi_1} = \\ket{0}\\ket{1}\n",
    "$$"
   ]
  },
  {
   "cell_type": "code",
   "execution_count": 19,
   "metadata": {},
   "outputs": [
    {
     "data": {
      "text/latex": [
       "$$\\ket{\\psi_1} =  |01\\rangle$$"
      ],
      "text/plain": [
       "<IPython.core.display.Latex object>"
      ]
     },
     "execution_count": 19,
     "metadata": {},
     "output_type": "execute_result"
    }
   ],
   "source": [
    "qc_deutsch = QuantumCircuit(2, 1)\n",
    "qc_deutsch.x(1)\n",
    "qc_deutsch.barrier()\n",
    "state = Statevector(qc_deutsch)\n",
    "state.reverse_qargs().draw('latex', prefix='\\\\ket{\\\\psi_1} = ')"
   ]
  },
  {
   "cell_type": "markdown",
   "metadata": {},
   "source": [
    "The second step is to apply the Hadamard gate $H$ to both qubits, so that the state becomes:\n",
    "$$\n",
    "\\begin{align*}\n",
    "\\ket{\\psi_2} &= H^{\\otimes 2}\\ket{\\psi_1} \\\\\n",
    "&= \\frac{1}{\\sqrt{2}}(\\ket{0} + \\ket{1})\\frac{1}{\\sqrt{2}}(\\ket{0} - \\ket{1}) \\\\\n",
    "&= \\frac{1}{2}(\\ket{0} \\ket{0} - \\ket{0} \\ket{1} + \\ket{1} \\ket{0} - \\ket{1} \\ket{1})\n",
    "\\end{align*}"
   ]
  },
  {
   "cell_type": "code",
   "execution_count": 20,
   "metadata": {},
   "outputs": [
    {
     "data": {
      "text/latex": [
       "$$\\ket{\\psi_2} = \\frac{1}{2} |00\\rangle- \\frac{1}{2} |01\\rangle+\\frac{1}{2} |10\\rangle- \\frac{1}{2} |11\\rangle$$"
      ],
      "text/plain": [
       "<IPython.core.display.Latex object>"
      ]
     },
     "execution_count": 20,
     "metadata": {},
     "output_type": "execute_result"
    }
   ],
   "source": [
    "qc_deutsch.h([0, 1])\n",
    "state = Statevector(qc_deutsch)\n",
    "state.reverse_qargs().draw('latex', prefix='\\\\ket{\\\\psi_2} = ')"
   ]
  },
  {
   "cell_type": "markdown",
   "metadata": {},
   "source": [
    "Now, the Operator $U_f$ is applied to the state $\\ket{\\psi_2}$:\n",
    "$$\n",
    "\\begin{align*}\n",
    "\\ket{\\psi_3} &= U_f\\ket{\\psi_2} \\\\\n",
    "&= \\frac{1}{2}(U_f\\ket{00} - U_f\\ket{01} + U_f\\ket{10} - U_f\\ket{11}) \\\\\n",
    "&= \\frac{1}{2}(\\ket{0, 0 \\oplus f(0)} - \\ket{0, 1 \\oplus f(0)} + \\ket{1, 0 \\oplus f(1)} - \\ket{1, 1 \\oplus f(1)}) \\\\\n",
    "&= \\frac{1}{2}(\\ket{0} \\cdot (\\ket{f(0)} - \\ket{1 \\oplus f(0)}) + \\ket{1} \\cdot (\\ket{f(1)} - \\ket{1 \\oplus f(1)})) \\\\ \n",
    "&= \\frac{1}{2} ((-1)^{f(0)}\\ket{0}(\\ket{0} - \\ket{1}) + (-1)^{f(1)}\\ket{1}(\\ket{0} - \\ket{1})) \\\\\n",
    "&= \\frac{1}{2} ((-1)^{f(0)}\\ket{0} + (-1)^{f(1)}\\ket{1})(\\ket{0} - \\ket{1})\n",
    "\\end{align*}\n",
    "$$\n",
    "If $f$ is constant, then $f(0) = f(1)$ and the state $\\ket{\\psi_3}$ becomes:\n",
    "$$\n",
    "\\ket{\\psi_3} = \\frac{1}{2} (\\pm (\\ket{0} + \\ket{1}))(\\ket{0} - \\ket{1})\n",
    "$$\n",
    "If $f$ is balanced, then $f(0) \\neq f(1)$ and the state $\\ket{\\psi_3}$ becomes:\n",
    "$$\n",
    "\\ket{\\psi_3} = \\frac{1}{2} (\\pm (\\ket{0} - \\ket{1}))(\\ket{0} - \\ket{1})\n",
    "$$"
   ]
  },
  {
   "cell_type": "code",
   "execution_count": 21,
   "metadata": {},
   "outputs": [
    {
     "data": {
      "text/plain": [
       "CircuitInstruction(operation=Instruction(name='barrier', num_qubits=2, num_clbits=0, params=[]), qubits=(Qubit(QuantumRegister(2, 'q'), 0), Qubit(QuantumRegister(2, 'q'), 1)), clbits=())"
      ]
     },
     "execution_count": 21,
     "metadata": {},
     "output_type": "execute_result"
    }
   ],
   "source": [
    "qc_deutsch.append(oracle, [0, 1])\n",
    "qc_deutsch.barrier()"
   ]
  },
  {
   "cell_type": "markdown",
   "metadata": {},
   "source": [
    "In the last step, the Hadamard gate $H$ is applied to the first qubit, resulting in the state for the constant function:\n",
    "$$\n",
    "\\ket{\\psi_4} = \\pm \\ket{0} \\left( \\frac{\\ket{0} - \\ket{1}}{\\sqrt{2}} \\right)\n",
    "$$\n",
    "and for the balanced function:\n",
    "$$\n",
    "\\ket{\\psi_4} = \\pm \\ket{1} \\left( \\frac{\\ket{0} - \\ket{1}}{\\sqrt{2}} \\right)\n",
    "$$\n",
    "This can be simplified to:\n",
    "$$\n",
    "\\ket{\\psi_4} = \\pm \\ket{f(0) \\oplus f(1)} \\left( \\frac{\\ket{0} - \\ket{1}}{\\sqrt{2}} \\right)\n",
    "$$\n",
    "By measuring the first qubit, the function $f$ can be determined. If the function is constant, the first qubit will be in the state $\\ket{0}$ and if the function is balanced, the first qubit will be in the state $\\ket{1}$."
   ]
  },
  {
   "cell_type": "code",
   "execution_count": 22,
   "metadata": {},
   "outputs": [
    {
     "data": {
      "image/png": "[encoded data removed]",
      "text/plain": [
       "<Figure size 788.961x284.278 with 1 Axes>"
      ]
     },
     "execution_count": 22,
     "metadata": {},
     "output_type": "execute_result"
    }
   ],
   "source": [
    "qc_deutsch.h(0)\n",
    "qc_deutsch.measure(0, 0)\n",
    "qc_deutsch.draw('mpl')"
   ]
  },
  {
   "cell_type": "markdown",
   "metadata": {},
   "source": [
    "### Simulation"
   ]
  },
  {
   "cell_type": "code",
   "execution_count": 23,
   "metadata": {},
   "outputs": [],
   "source": [
    "simulator = AerSimulator()\n",
    "shots = 1024\n",
    "sim_result = simulator.run(qc_deutsch.decompose(), shots=shots).result()"
   ]
  },
  {
   "cell_type": "code",
   "execution_count": 24,
   "metadata": {},
   "outputs": [
    {
     "name": "stdout",
     "output_type": "stream",
     "text": [
      "The function is constant\n"
     ]
    }
   ],
   "source": [
    "counts = sim_result.get_counts()\n",
    "plot_histogram(counts)\n",
    "if '0' in counts and counts['0'] == shots:\n",
    "    print('The function is constant')\n",
    "elif '1' in counts and counts['1'] == shots:\n",
    "    print('The function is balanced')\n",
    "else:\n",
    "    print('Error') "
   ]
  }
 ],
 "metadata": {
  "kernelspec": {
   "display_name": ".venv",
   "language": "python",
   "name": "python3"
  },
  "language_info": {
   "codemirror_mode": {
    "name": "ipython",
    "version": 3
   },
   "file_extension": ".py",
   "mimetype": "text/x-python",
   "name": "python",
   "nbconvert_exporter": "python",
   "pygments_lexer": "ipython3",
   "version": "3.12.1"
  }
 },
 "nbformat": 4,
 "nbformat_minor": 2
}
